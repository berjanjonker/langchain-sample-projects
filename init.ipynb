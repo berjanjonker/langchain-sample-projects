{
 "cells": [
  {
   "cell_type": "code",
   "execution_count": null,
   "metadata": {},
   "outputs": [],
   "source": [
    "%%writefile requirements.txt\n",
    "\n",
    "langchain-core\n",
    "langchain-openai\n",
    "langchain_experimental\n",
    "langchain-tools\n",
    "langchainhub\n",
    "pandas\n",
    "wikipedia\n",
    "numexpr\n",
    "python-dotenv"
   ]
  },
  {
   "cell_type": "code",
   "execution_count": null,
   "metadata": {},
   "outputs": [],
   "source": [
    "%pip install -r requirements.txt"
   ]
  },
  {
   "cell_type": "markdown",
   "metadata": {},
   "source": [
    "Create .env file with LLM Provider variables"
   ]
  },
  {
   "cell_type": "code",
   "execution_count": null,
   "metadata": {},
   "outputs": [],
   "source": [
    "%%writefile .env\n",
    "\n",
    "AZURE_OPENAI_API_KEY=\n",
    "AZURE_OPENAI_ENDPOINT=\n",
    "AZURE_OPENAI_API_VERSION=\n",
    "AZURE_OPENAI_CHAT_DEPLOYMENT_NAME="
   ]
  }
 ],
 "metadata": {
  "kernelspec": {
   "display_name": "Python 3",
   "language": "python",
   "name": "python3"
  },
  "language_info": {
   "codemirror_mode": {
    "name": "ipython",
    "version": 3
   },
   "file_extension": ".py",
   "mimetype": "text/x-python",
   "name": "python",
   "nbconvert_exporter": "python",
   "pygments_lexer": "ipython3",
   "version": "3.10.11"
  }
 },
 "nbformat": 4,
 "nbformat_minor": 2
}
