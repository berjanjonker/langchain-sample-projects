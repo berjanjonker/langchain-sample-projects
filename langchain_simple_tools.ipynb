{
 "cells": [
  {
   "cell_type": "code",
   "execution_count": null,
   "metadata": {},
   "outputs": [],
   "source": [
    "import os\n",
    "import warnings\n",
    "from dotenv import load_dotenv\n",
    "from langchain.agents import load_tools, initialize_agent\n",
    "from langchain.agents import AgentType\n",
    "from langchain.chat_models import AzureChatOpenAI\n",
    "\n",
    "warnings.filterwarnings(\"ignore\")\n",
    "\n",
    "# Load environment variables from a .env file  \n",
    "load_dotenv()"
   ]
  },
  {
   "cell_type": "code",
   "execution_count": null,
   "metadata": {},
   "outputs": [],
   "source": [
    "# Create a Language Model (LLM) client using the Azure OpenAI API  \n",
    "# Set the temperature to zero to avoid randomness in the output \n",
    "llm_model = 'gpt-3.5-turbo'\n",
    "llm = AzureChatOpenAI(\n",
    "    openai_api_version=os.environ[\"AZURE_OPENAI_API_VERSION\"],\n",
    "    azure_deployment=os.environ[\"AZURE_OPENAI_CHAT_DEPLOYMENT_NAME\"],\n",
    "    model=llm_model,\n",
    "    temperature=0\n",
    ")\n",
    "\n",
    "# Load two tools from the LangChain library: \"llm-math\" and \"wikipedia\"  \n",
    "tools = load_tools([\"llm-math\",\"wikipedia\"], llm=llm)\n",
    "\n",
    "# Initialize an agent with the tools and the LLM  \n",
    "# The agent uses the ReAct paradigm to think and solve user questions  \n",
    "agent= initialize_agent(\n",
    "    tools, \n",
    "    llm, \n",
    "    agent=AgentType.CHAT_ZERO_SHOT_REACT_DESCRIPTION,\n",
    "    handle_parsing_errors=True,\n",
    "    verbose = True)"
   ]
  },
  {
   "cell_type": "code",
   "execution_count": null,
   "metadata": {},
   "outputs": [],
   "source": [
    "# Print the actual prompt that is sent over the line\n",
    "print(agent.agent.llm_chain.prompt.messages[0].prompt.template)"
   ]
  },
  {
   "cell_type": "code",
   "execution_count": null,
   "metadata": {},
   "outputs": [],
   "source": [
    "# Define a question for the agent to solve  \n",
    "# The agent will look at Wikipedia to find the information and use the calculator to add the numbers\n",
    "question = \"Tel de geboortejaren van Einstein, Putin en Vincent van Gogh op\"\n",
    "\n",
    "# Get the result from the agent\n",
    "result = agent(question) "
   ]
  },
  {
   "cell_type": "markdown",
   "metadata": {},
   "source": [
    "output:\n",
    "````plaintext\n",
    "> Entering new AgentExecutor chain...\n",
    "Question: Tel de geboortejaren van Einstein, Putin en Vincent van Gogh op\n",
    "Thought: I can use Wikipedia to find the birth years of these individuals and then add them together.\n",
    "Action:\n",
    "```\n",
    "{\n",
    "  \"action\": \"wikipedia\",\n",
    "  \"action_input\": \"Albert Einstein\"\n",
    "}\n",
    "```\n",
    "Observation: Page: Albert Einstein\n",
    "Summary: Albert Einstein ( EYEN-styne; German: [ˈalbɛɐt ˈʔaɪnʃtaɪn] ; 14 March 1879 – 18 April 1955) was a German-born theoretical physicist who is widely held to be one of the greatest and most influential scientists of all time. Best known for developing the theory of relativity, Einstein also made important contributions to quantum mechanics, and was thus a central figure in the revolutionary reshaping of the scientific understanding of nature that modern physics accomplished in the first decades of the twentieth century. His mass–energy equivalence formula E = mc2, which arises from relativity theory, has been called \"the world's most famous equation\". He received the 1921 Nobel Prize in Physics \"for his services to theoretical physics, and especially for his discovery of the law of the photoelectric effect\", a pivotal step in the development of quantum theory. His work is also known for its influence on the philosophy of science.\n",
    "Born in the German Empire, Einstein moved to Switzerland in 1895, forsaking his German citizenship (as a subject of the Kingdom of Württemberg) the following year. In 1897, at the age of seventeen, he enrolled in the mathematics and physics teaching diploma program at the Swiss federal polytechnic school in Zürich, graduating in 1900. In 1901, he acquired Swiss citizenship, which he kept for the rest of his life. In 1903, he secured a permanent position at the Swiss Patent Office in Bern. In 1905, he submitted a successful PhD dissertation to the University of Zurich. In 1914, he moved to Berlin in order to join the Prussian Academy of Sciences and the Humboldt University of Berlin. In 1917, he became director of the Kaiser Wilhelm Institute for Physics; he also became a German citizen again, this time as a subject of the Kingdom of Prussia.\n",
    "In 1933, while he was visiting the United States, Adolf Hitler came to power in Germany. Horrified by the Nazi \"war of extermination\" against his fellow Jews, Einstein decided to remain in the US, and was granted American citizenship in 1940. On the eve of World War II, he endorsed a letter to President Franklin D. Roosevelt alerting him to the potential German nuclear weapons program and recommending that the US begin similar research. Einstein supported the Allies but generally viewed the idea of nuclear weapons with great dismay.\n",
    "In 1905, sometimes described as his annus mirabilis (miracle year), Einstein published four groundbreaking papers. These outlined a theory of the photoelectric effect, explained Brownian motion, introduced his special theory of relativity—a theory which addressed the inability of classical mechanics to account satisfactorily for the behavior of the electromagnetic field—and demonstrated that if the special theory is correct, mass and energy are equivalent to each other. In 1915, he proposed a general theory of relativity that extended his system of mechanics to incorporate gravitation. A cosmological paper that he published the following year laid out the implications of general relativity for the modeling of the structure and evolution of the universe as a whole. The middle part of his career also saw him making important contributions to statistical mechanics and quantum theory. Especially notable was his work on the quantum physics of radiation, in which light consists of particles, subsequently called photons. For much of the last phase of his academic life, Einstein worked on two endeavors that proved ultimately unsuccessful. First, he advocated against quantum theory's introduction of fundamental randomness into science's picture of the world, objecting that \"God does not play dice\". Second, he attempted to devise a unified field theory by generalizing his geometric theory of gravitation to include electromagnetism too. As a result, he became increasingly isolated from the mainstream of modern physics. \n",
    "In a 1999 poll of 130 leading physicists worldwide by the British journal Physics World, Einstein was\n",
    "Thought:```\n",
    "{\n",
    "  \"action\": \"wikipedia\",\n",
    "  \"action_input\": \"Vladimir Putin\"\n",
    "}\n",
    "```\n",
    "Observation: Page: Vladimir Putin\n",
    "Summary: Vladimir Vladimirovich Putin (born 7 October 1952) is a Russian politician and former intelligence officer who is the president of Russia. Putin has held continuous positions as president or prime minister since 1999: as prime minister from 1999 to 2000 and from 2008 to 2012, and as president from 2000 to 2008 and since 2012. He is the longest-serving Russian or Soviet leader since Joseph Stalin.\n",
    "Putin worked as a KGB foreign intelligence officer for 16 years, rising to the rank of lieutenant colonel before resigning in 1991 to begin a political career in Saint Petersburg. In 1996, he moved to Moscow to join the administration of President Boris Yeltsin. He briefly served as the director of the Federal Security Service (FSB) and then as secretary of the Security Council of Russia before being appointed prime minister in August 1999. Following Yeltsin's resignation, Putin became acting president and, in less than four months, was elected to his first term as president. He was reelected in 2004. Due to constitutional limitations of two consecutive presidential terms, Putin served as prime minister again from 2008 to 2012 under Dmitry Medvedev. He returned to the presidency in 2012, following an election marked by allegations of fraud and protests, and was reelected in 2018.\n",
    "During Putin's initial presidential tenure, the Russian economy grew on average by seven percent per year, driven by economic reforms and a fivefold increase in the price of oil and gas. Additionally, Putin led Russia in a conflict against Chechen separatists, reestablishing federal control over the region. While serving as prime minister under Medvedev, he oversaw a military conflict with Georgia and enacted military and police reforms. In his third presidential term, Russia annexed Crimea and supported a war in eastern Ukraine through several military incursions, resulting in international sanctions and a financial crisis in Russia. He also ordered a military intervention in Syria to support his ally Bashar al-Assad during the Syrian civil war, ultimately securing permanent naval bases in the Eastern Mediterranean. \n",
    "In February 2022, during his fourth presidential term, Putin launched a full-scale invasion of Ukraine, which prompted international condemnation and led to expanded sanctions. In September 2022, he announced a partial mobilization and forcibly annexed four Ukrainian oblasts into Russia. In March 2023, the International Criminal Court issued an arrest warrant for Putin for war crimes related to his alleged criminal responsibility for illegal child abductions during the war. In April 2021, after a referendum, he signed into law constitutional amendments that included one allowing him to run for reelection twice more, potentially extending his presidency to 2036. In June 2023, he survived the Wagner Group rebellion. In March 2024, he was reelected for another term.\n",
    "Under Putin's rule, the Russian political system has been transformed into an authoritarian dictatorship. His rule has been marked by endemic corruption and widespread human rights violations, including the imprisonment and suppression of political opponents, intimidation and censorship of independent media in Russia, and a lack of free and fair elections. Putin's Russia has consistently received low scores on Transparency International's Corruption Perceptions Index, The Economist Democracy Index, Freedom House's Freedom in the World index, and the Reporters Without Borders Press Freedom Index.\n",
    "\n",
    "Page: Family of Vladimir Putin\n",
    "Summary: The family of Russian President Vladimir Putin, who has served in office from 2000 to 2008 and 2012 to the present, comes from the Russian peasantry. Spiridon Putin (1879–1965) was a cook in Gorky (now known as Nizhny Novgorod), his son Vladimir (1911–1999) participated in World War II, grandson Vladimir (born in 1952) made a career in the KGB and the FSB, in 1999 he became the chairman of the Russian government, in 2000–2008\n",
    "Thought:```\n",
    "{\n",
    "  \"action\": \"wikipedia\",\n",
    "  \"action_input\": \"Vincent van Gogh\"\n",
    "}\n",
    "```\n",
    "Observation: Page: Vincent van Gogh\n",
    "Summary: Vincent Willem van Gogh (Dutch: [ˈvɪnsɛnt ˈʋɪləɱ‿vɑŋ‿ˈɣɔx] ; 30 March 1853 – 29 July 1890) was a Dutch Post-Impressionist painter who is among the most famous and influential figures in the history of Western art. In just over a decade, he created approximately 2100 artworks, including around 860 oil paintings, most of them in the last two years of his life. His oeuvre includes landscapes, still lifes, portraits, and self-portraits, most of which are characterized by bold colors and dramatic brushwork that contributed to the rise of expressionism in modern art. Van Gogh's work was beginning to gain critical attention before he died at age 37, by what was suspected at the time to be a suicide. During his lifetime, only one of Van Gogh's paintings, The Red Vineyard, was sold. \n",
    "Born into an upper-middle-class family, Van Gogh drew as a child and was serious, quiet and thoughtful, but showed signs of mental instability. As a young man, he worked as an art dealer, often travelling, but became depressed after he was transferred to London. He turned to religion and spent time as a missionary in southern Belgium. Later he drifted into ill-health and solitude. He was keenly aware of modernist trends in art and, while back with his parents, took up painting in 1881. His younger brother, Theo, supported him financially, and the two of them maintained a long correspondence.\n",
    "Van Gogh's early works consist of mostly still lifes and depictions of peasant laborers. In 1886, he moved to Paris, where he met members of the artistic avant-garde, including Émile Bernard and Paul Gauguin, who were seeking new paths beyond Impressionism. Frustrated in Paris and inspired by a growing spirit of artistic change and collaboration, in February 1888, Van Gogh moved to Arles in southern France to establish an artistic retreat and commune. Once there, Van Gogh's art changed. His paintings grew brighter and he turned his attention to the natural world, depicting local olive groves, wheat fields and sunflowers. Van Gogh invited Gauguin to join him in Arles and eagerly anticipated Gauguin's arrival in the fall of 1888.\n",
    "Van Gogh suffered from psychotic episodes and delusions. Though he worried about his mental stability, he often neglected his physical health, did not eat properly and drank heavily. His friendship with Gauguin ended after a confrontation with a razor when, in a rage, he severed his left ear. Van Gogh spent time in psychiatric hospitals, including a period at Saint-Rémy. After he discharged himself and moved to the Auberge Ravoux in Auvers-sur-Oise near Paris, he came under the care of the homeopathic doctor Paul Gachet. His depression persisted, and on 27 July 1890, Van Gogh is believed to have shot himself in the chest with a revolver, dying from his injuries two days later.\n",
    "Van Gogh's work began to attract critical artistic attention in the last year of his life. After his death, Van Gogh's art and life story captured public imagination as an emblem of misunderstood genius, due in large part to the efforts of his widowed sister-in-law Johanna van Gogh-Bonger. His bold use of color, expressive line and thick application of paint inspired avant-garde artistic groups like the Fauves and German Expressionists in the early 20th century. Van Gogh's work gained widespread critical and commercial success in the following decades, and he has become a lasting icon of the romantic ideal of the tortured artist. Today, Van Gogh's works are among the world's most expensive paintings ever sold. His legacy is honored and celebrated by the Van Gogh Museum in Amsterdam, which holds the world's largest collection of his paintings and drawings.\n",
    "\n",
    "Page: List of works by Vincent van Gogh\n",
    "Summary: This is an incomplete list of paintings and other works by the Dutch artist Vincent van Gogh (1853–1890).\n",
    "Little appreciated during his lifetime, his fame grew in the years after his death. According to the legend, Van Gogh sold only one pai\n",
    "Thought:```\n",
    "{\n",
    "  \"action\": \"Calculator\",\n",
    "  \"action_input\": \"1879 + 1952 + 1853\"\n",
    "}\n",
    "```\n",
    "Observation: Answer: 5684\n",
    "Thought:I now know the final answer\n",
    "\n",
    "Final Answer: 5684\n",
    "\n",
    "> Finished chain.\n",
    "````"
   ]
  }
 ],
 "metadata": {
  "kernelspec": {
   "display_name": "Python 3",
   "language": "python",
   "name": "python3"
  },
  "language_info": {
   "codemirror_mode": {
    "name": "ipython",
    "version": 3
   },
   "file_extension": ".py",
   "mimetype": "text/x-python",
   "name": "python",
   "nbconvert_exporter": "python",
   "pygments_lexer": "ipython3",
   "version": "3.10.11"
  }
 },
 "nbformat": 4,
 "nbformat_minor": 2
}
