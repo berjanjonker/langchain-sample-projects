{
 "cells": [
  {
   "cell_type": "code",
   "execution_count": null,
   "metadata": {},
   "outputs": [],
   "source": [
    "import os\n",
    "import warnings\n",
    "from dotenv import load_dotenv\n",
    "from langchain.chat_models import AzureChatOpenAI\n",
    "from langchain.prompts import PromptTemplate\n",
    "from langchain.chains import LLMChain\n",
    "from langchain.chains import SimpleSequentialChain\n",
    "\n",
    "warnings.filterwarnings(\"ignore\")\n",
    "\n",
    "# Load environment variables from a .env file  \n",
    "load_dotenv()"
   ]
  },
  {
   "cell_type": "code",
   "execution_count": null,
   "metadata": {},
   "outputs": [],
   "source": [
    "# Create a Language Model (LLM) client using the Azure OpenAI API  \n",
    "# Set the temperature to zero to avoid randomness in the output  \n",
    "\n",
    "llm_model = 'gpt-3.5-turbo'\n",
    "llm = AzureChatOpenAI(\n",
    "    openai_api_version=os.environ[\"AZURE_OPENAI_API_VERSION\"],\n",
    "    azure_deployment=os.environ[\"AZURE_OPENAI_CHAT_DEPLOYMENT_NAME\"],\n",
    "    model=llm_model,\n",
    "    temperature=0\n",
    ")"
   ]
  },
  {
   "cell_type": "code",
   "execution_count": null,
   "metadata": {},
   "outputs": [],
   "source": [
    "# Define two prompt templates for different use cases  \n",
    "# LLM 1: Movie Genre Recommender  \n",
    "template = '''You are a movie genre recommendor. Given the user's favorite genre: {genre}, suggest three related genres.\n",
    " \n",
    "Suggests genres:'''\n",
    "prompt_template = PromptTemplate(input_variables=[\"genre\"], template=template)\n",
    "chain_one = LLMChain(llm=llm, prompt=prompt_template)"
   ]
  },
  {
   "cell_type": "code",
   "execution_count": null,
   "metadata": {},
   "outputs": [],
   "source": [
    "# LLM 2: Movie Recommender \n",
    "template = '''You are a movie recommender. Given the user's favorite genres: {genres}, suggest some movies that fall under these genres.\n",
    " \n",
    "Suggest movies:'''\n",
    "prompt_template = PromptTemplate(input_variables=[\"genres\"], template=template)\n",
    "chain_two = LLMChain(llm=llm, prompt=prompt_template)"
   ]
  },
  {
   "cell_type": "code",
   "execution_count": null,
   "metadata": {},
   "outputs": [],
   "source": [
    "# Link the two chains together in a sequential manner  \n",
    "# The output of chain_one will be passed as input to chain_two  \n",
    "overall_chain = SimpleSequentialChain(\n",
    "    chains=[chain_one, chain_two],\n",
    "    verbose=True)"
   ]
  },
  {
   "cell_type": "code",
   "execution_count": null,
   "metadata": {},
   "outputs": [],
   "source": [
    "# Run the overall chain with a sample input \n",
    "overall_chain.run('War')"
   ]
  },
  {
   "cell_type": "markdown",
   "metadata": {},
   "source": [
    "example output:\n",
    "```plaintext\n",
    "> Entering new SimpleSequentialChain chain...\n",
    " 1. Historical Drama - This genre often includes war as a central theme and focuses on the historical events and characters involved in conflicts.\n",
    "\n",
    "2. Action - Action movies often feature intense battle scenes and military operations, making them a good choice for fans of war movies.\n",
    "\n",
    "3. Thriller - Thriller movies often incorporate elements of war and espionage, creating tension and suspense in a similar way to war films.\n",
    "\n",
    "1. Historical Drama - \"Braveheart\" (1995) - This film follows the story of William Wallace, a Scottish warrior who led a rebellion against the English during the First War of Scottish Independence.\n",
    "\n",
    "2. Action - \"Saving Private Ryan\" (1998) - This movie is set during World War II and follows a group of soldiers as they search for a paratrooper whose brothers have been killed in action.\n",
    "\n",
    "3. Thriller - \"Zero Dark Thirty\" (2012) - This film is a gripping thriller that follows the decade-long hunt for Osama bin Laden after the September 11 attacks, incorporating elements of war and espionage.\n",
    "\n",
    "> Finished chain.\n",
    "```"
   ]
  }
 ],
 "metadata": {
  "kernelspec": {
   "display_name": "Python 3",
   "language": "python",
   "name": "python3"
  },
  "language_info": {
   "codemirror_mode": {
    "name": "ipython",
    "version": 3
   },
   "file_extension": ".py",
   "mimetype": "text/x-python",
   "name": "python",
   "nbconvert_exporter": "python",
   "pygments_lexer": "ipython3",
   "version": "3.10.11"
  }
 },
 "nbformat": 4,
 "nbformat_minor": 2
}
